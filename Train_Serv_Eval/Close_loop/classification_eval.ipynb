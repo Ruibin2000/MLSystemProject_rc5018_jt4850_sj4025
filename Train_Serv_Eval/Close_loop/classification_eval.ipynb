{
 "cells": [
  {
   "cell_type": "markdown",
   "metadata": {},
   "source": [
    "### Evaluate accuracy on production data\n",
    "\n"
   ]
  },
  {
   "cell_type": "code",
   "execution_count": null,
   "metadata": {},
   "outputs": [
    {
     "name": "stdout",
     "output_type": "stream",
     "text": [
      "[class_04/ace148a2-de0f-4d2f-9fe8-eae201d4e35f.jpg] human: 'apple black rot' | model: 'apple scab'\n",
      "[class_04/72e6b7e2-b33e-4290-ae4b-5f0e0031b6a6.jpg] human: 'apple black rot' | model: 'apple scab'\n",
      "✅ Accuracy: 0/2 = 0.00%\n"
     ]
    }
   ],
   "source": [
    "import os\n",
    "import json\n",
    "import re\n",
    "import boto3\n",
    "import requests\n",
    "from urllib.parse import urlparse\n",
    "from collections import defaultdict, Counter\n",
    "# ----------------------------\n",
    "# Load Environment Variables\n",
    "# ----------------------------\n",
    "LABEL_STUDIO_URL = os.environ['LABEL_STUDIO_URL']\n",
    "LABEL_STUDIO_TOKEN = os.environ['LABEL_STUDIO_USER_TOKEN']\n",
    "PROJECT_ID = 3\n",
    "MINIO_URL = os.environ['MINIO_URL']\n",
    "MINIO_ACCESS_KEY = os.environ['MINIO_USER']\n",
    "MINIO_SECRET_KEY = os.environ['MINIO_PASSWORD']\n",
    "BUCKET_NAME = \"plantseg-upload\"\n",
    "\n",
    "# ----------------------------\n",
    "# Connect to MinIO\n",
    "# ----------------------------\n",
    "s3 = boto3.client(\n",
    "    \"s3\",\n",
    "    endpoint_url=MINIO_URL,\n",
    "    aws_access_key_id=MINIO_ACCESS_KEY,\n",
    "    aws_secret_access_key=MINIO_SECRET_KEY,\n",
    "    region_name=\"us-east-1\"\n",
    ")\n",
    "\n",
    "# ----------------------------\n",
    "# Get Tasks from Label Studio\n",
    "# ----------------------------\n",
    "resp = requests.get(\n",
    "    f\"{LABEL_STUDIO_URL}/api/projects/{PROJECT_ID}/tasks\",\n",
    "    headers={\"Authorization\": f\"Token {LABEL_STUDIO_TOKEN}\"}\n",
    ")\n",
    "tasks = resp.json()\n",
    "\n",
    "# ----------------------------\n",
    "# Match & Compare\n",
    "# ----------------------------\n",
    "total, correct = 0, 0\n",
    "\n",
    "for task in tasks:\n",
    "    try:\n",
    "        # ----- Extract human label -----\n",
    "        annotation = task['annotations'][0]\n",
    "        result = annotation['result'][0]\n",
    "        raw_choice = result['value']['choices'][0]\n",
    "\n",
    "        # Strip prefix like '1: \"label\"', then cleanup\n",
    "        match = re.search(r':\\s*\"?(.*?)\"?[,\"]?$', raw_choice)\n",
    "        human_label = match.group(1).strip().lower() if match else \"\"\n",
    "        if not human_label:\n",
    "            continue\n",
    "\n",
    "        # ----- Extract image key from URL -----\n",
    "        image_url = task['data']['image']\n",
    "        key = urlparse(image_url).path.lstrip(\"/\")\n",
    "        if key.startswith(f\"{BUCKET_NAME}/\"):\n",
    "            key = key[len(f\"{BUCKET_NAME}/\"):]\n",
    "\n",
    "        # Skip mask files\n",
    "        if key.endswith('_mask.png'):\n",
    "            continue\n",
    "\n",
    "        # ----- Get MinIO predicted label -----\n",
    "        tags = s3.get_object_tagging(Bucket=BUCKET_NAME, Key=key)['TagSet']\n",
    "        tag_dict = {t['Key']: t['Value'] for t in tags}\n",
    "        model_label = tag_dict.get('predicted_class', '').strip().lower()\n",
    "\n",
    "        print(f\"[{key}] human: '{human_label}' | model: '{model_label}'\")\n",
    "\n",
    "        if human_label and model_label:\n",
    "            total += 1\n",
    "            if human_label == model_label:\n",
    "                correct += 1\n",
    "    except Exception as e:\n",
    "        print(f\"⚠️ Error: {e}\")\n",
    "        continue\n",
    "\n",
    "# ----------------------------\n",
    "# Final Accuracy\n",
    "# ----------------------------\n",
    "print(f\"✅ Accuracy: {correct}/{total} = {correct/total:.2%}\" if total else \"❌ No valid comparisons made.\")\n"
   ]
  }
 ],
 "metadata": {
  "kernelspec": {
   "display_name": "Python 3 (ipykernel)",
   "language": "python",
   "name": "python3"
  },
  "language_info": {
   "codemirror_mode": {
    "name": "ipython",
    "version": 3
   },
   "file_extension": ".py",
   "mimetype": "text/x-python",
   "name": "python",
   "nbconvert_exporter": "python",
   "pygments_lexer": "ipython3",
   "version": "3.12.10"
  }
 },
 "nbformat": 4,
 "nbformat_minor": 4
}
