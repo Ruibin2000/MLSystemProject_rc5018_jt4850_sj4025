{
 "cells": [
  {
   "cell_type": "markdown",
   "metadata": {},
   "source": [
    "## Launch a container on an edge device - with python-chi\n",
    "\n"
   ]
  },
  {
   "cell_type": "code",
   "execution_count": 1,
   "metadata": {
    "tags": []
   },
   "outputs": [
    {
     "data": {
      "application/vnd.jupyter.widget-view+json": {
       "model_id": "1749bd3175394402becfcdd73fbd7cc4",
       "version_major": 2,
       "version_minor": 0
      },
      "text/plain": [
       "VBox(children=(Dropdown(description='Select Project', options=('CHI-251409',), value='CHI-251409'), Output()))"
      ]
     },
     "metadata": {},
     "output_type": "display_data"
    },
    {
     "data": {
      "application/vnd.jupyter.widget-view+json": {
       "model_id": "edeb2fa9ee6c47e481fad62dfecf4b0f",
       "version_major": 2,
       "version_minor": 0
      },
      "text/plain": [
       "VBox(children=(Dropdown(description='Select Site', index=6, options=('CHI@TACC', 'CHI@UC', 'CHI@EVL', 'CHI@NCA…"
      ]
     },
     "metadata": {},
     "output_type": "display_data"
    }
   ],
   "source": [
    "from chi import container, context, lease\n",
    "import os\n",
    "import chi\n",
    "\n",
    "context.version = \"1.0\" \n",
    "context.choose_project()\n",
    "context.choose_site(default=\"CHI@Edge\")"
   ]
  },
  {
   "cell_type": "markdown",
   "metadata": {},
   "source": [
    "Change the string in the following cell to reflect the name of *your* lease (**with your own net ID**), then run it to get your lease:"
   ]
  },
  {
   "cell_type": "code",
   "execution_count": 2,
   "metadata": {
    "tags": []
   },
   "outputs": [
    {
     "data": {
      "application/vnd.jupyter.widget-view+json": {
       "model_id": "0d5055437efb4f28bafa893da5622f80",
       "version_major": 2,
       "version_minor": 0
      },
      "text/plain": [
       "HTML(value='\\n        <h2>Lease Details</h2>\\n        <table>\\n            <tr><th>Name</th><td>proj_plant_gro…"
      ]
     },
     "metadata": {},
     "output_type": "display_data"
    },
    {
     "name": "stdout",
     "output_type": "stream",
     "text": [
      "Lease Details:\n",
      "Name: proj_plant_group7_edge_sering\n",
      "ID: 8af62902-b302-413f-bf61-ba0877463727\n",
      "Status: ACTIVE\n",
      "Start Date: 2025-05-10 16:00:00\n",
      "End Date: 2025-05-13 04:00:00\n",
      "User ID: 75a6b77d5fa49a3452e731b46cd1bb19ab89434defe5fba57a104b06b20b0621\n",
      "Project ID: 5f910093b40d4f038aa746c10d270901\n",
      "\n",
      "Node Reservations:\n",
      "\n",
      "Floating IP Reservations:\n",
      "\n",
      "Network Reservations:\n",
      "\n",
      "Events:\n"
     ]
    }
   ],
   "source": [
    "l = lease.get_lease(f\"proj_plant_group7_edge_sering\") \n",
    "l.show()"
   ]
  },
  {
   "cell_type": "code",
   "execution_count": 3,
   "metadata": {
    "tags": []
   },
   "outputs": [
    {
     "name": "stdout",
     "output_type": "stream",
     "text": [
      "Waiting for container b4d4256d-8e94-4388-8bad-2df73748bfd2 status to turn to Running. This can take a while depending on the image\n"
     ]
    },
    {
     "data": {
      "text/html": [
       "\n",
       "        <table style=\"border-collapse: collapse; width: 100%;\">\n",
       "            <tr>\n",
       "                <th style=\"border: 1px solid black; padding: 8px; text-align: left; background-color: #f2f2f2;\">Property</th>\n",
       "                <th style=\"border: 1px solid black; padding: 8px; text-align: left; background-color: #f2f2f2;\">Value</th>\n",
       "            </tr>\n",
       "            \n",
       "            <tr>\n",
       "                <td style=\"border: 1px solid black; padding: 8px;\">Name</td>\n",
       "                <td style=\"border: 1px solid black; padding: 8px;\">proj-plant-group7-edge-sering</td>\n",
       "            </tr>\n",
       "            \n",
       "            <tr>\n",
       "                <td style=\"border: 1px solid black; padding: 8px;\">ID</td>\n",
       "                <td style=\"border: 1px solid black; padding: 8px;\">b4d4256d-8e94-4388-8bad-2df73748bfd2</td>\n",
       "            </tr>\n",
       "            \n",
       "            <tr>\n",
       "                <td style=\"border: 1px solid black; padding: 8px;\">Status</td>\n",
       "                <td style=\"border: 1px solid black; padding: 8px;\">Running</td>\n",
       "            </tr>\n",
       "            \n",
       "            <tr>\n",
       "                <td style=\"border: 1px solid black; padding: 8px;\">Image</td>\n",
       "                <td style=\"border: 1px solid black; padding: 8px;\">quay.io/jupyter/minimal-notebook:latest</td>\n",
       "            </tr>\n",
       "            \n",
       "            <tr>\n",
       "                <td style=\"border: 1px solid black; padding: 8px;\">Created at</td>\n",
       "                <td style=\"border: 1px solid black; padding: 8px;\">None</td>\n",
       "            </tr>\n",
       "            \n",
       "            <tr>\n",
       "                <td style=\"border: 1px solid black; padding: 8px;\">Exposed Ports</td>\n",
       "                <td style=\"border: 1px solid black; padding: 8px;\">[8888]</td>\n",
       "            </tr>\n",
       "            \n",
       "            <tr>\n",
       "                <td style=\"border: 1px solid black; padding: 8px;\">Reservation ID</td>\n",
       "                <td style=\"border: 1px solid black; padding: 8px;\">dace895d-9704-4aa4-9815-e715fe25a6c8</td>\n",
       "            </tr>\n",
       "            \n",
       "            <tr>\n",
       "                <td style=\"border: 1px solid black; padding: 8px;\">Runtime</td>\n",
       "                <td style=\"border: 1px solid black; padding: 8px;\">Default</td>\n",
       "            </tr>\n",
       "            \n",
       "        </table>\n",
       "        "
      ],
      "text/plain": [
       "<IPython.core.display.HTML object>"
      ]
     },
     "metadata": {},
     "output_type": "display_data"
    }
   ],
   "source": [
    "username = os.getenv('USER') # exp resources will have this suffix\n",
    "c = container.Container(\n",
    "    name = f\"proj_plant_group7_edge_sering\".replace('_', '-'),\n",
    "    reservation_id = l.device_reservations[0][\"id\"],\n",
    "    image_ref = \"quay.io/jupyter/minimal-notebook:latest\", \n",
    "    exposed_ports = [8888]\n",
    ")\n",
    "c.submit(idempotent=True)"
   ]
  },
  {
   "cell_type": "markdown",
   "metadata": {},
   "source": [
    "Then, we’ll associate a floating IP with the container, so that we can access the Jupyter service running in it."
   ]
  },
  {
   "cell_type": "code",
   "execution_count": 4,
   "metadata": {
    "tags": []
   },
   "outputs": [
    {
     "data": {
      "text/plain": [
       "'129.114.34.237'"
      ]
     },
     "execution_count": 4,
     "metadata": {},
     "output_type": "execute_result"
    }
   ],
   "source": [
    "c.associate_floating_ip()"
   ]
  },
  {
   "cell_type": "markdown",
   "metadata": {},
   "source": [
    "In the output above, make a note of the floating IP that has been assigned to your container."
   ]
  },
  {
   "cell_type": "markdown",
   "metadata": {},
   "source": [
    "Let’s retrieve a copy of these materials on the container:"
   ]
  },
  {
   "cell_type": "code",
   "execution_count": 5,
   "metadata": {
    "tags": []
   },
   "outputs": [
    {
     "name": "stdout",
     "output_type": "stream",
     "text": [
      "Cloning into 'serve-edge-chi'...\n",
      "\n"
     ]
    }
   ],
   "source": [
    "stdout, code = c.execute(\"git clone https://github.com/teaching-on-testbeds/serve-edge-chi.git\")\n",
    "print(stdout)"
   ]
  },
  {
   "cell_type": "code",
   "execution_count": 6,
   "metadata": {
    "tags": []
   },
   "outputs": [
    {
     "name": "stdout",
     "output_type": "stream",
     "text": [
      "\n"
     ]
    }
   ],
   "source": [
    "stdout, code = c.execute(\"mv serve-edge-chi/workspace/models work/\")\n",
    "print(stdout)"
   ]
  },
  {
   "cell_type": "code",
   "execution_count": 7,
   "metadata": {
    "tags": []
   },
   "outputs": [
    {
     "name": "stdout",
     "output_type": "stream",
     "text": [
      "\n"
     ]
    }
   ],
   "source": [
    "stdout, code = c.execute(\"mv serve-edge-chi/workspace/measure_pi.ipynb work/\")\n",
    "print(stdout)"
   ]
  },
  {
   "cell_type": "markdown",
   "metadata": {},
   "source": [
    "and, install the ONNX runtime Python module:"
   ]
  },
  {
   "cell_type": "code",
   "execution_count": 8,
   "metadata": {
    "tags": []
   },
   "outputs": [
    {
     "name": "stdout",
     "output_type": "stream",
     "text": [
      "Collecting onnxruntime\n",
      "  Downloading onnxruntime-1.22.0-cp312-cp312-manylinux_2_27_aarch64.manylinux_2_28_aarch64.whl.metadata (4.8 kB)\n",
      "Collecting coloredlogs (from onnxruntime)\n",
      "  Downloading coloredlogs-15.0.1-py2.py3-none-any.whl.metadata (12 kB)\n",
      "Collecting flatbuffers (from onnxruntime)\n",
      "  Downloading flatbuffers-25.2.10-py2.py3-none-any.whl.metadata (875 bytes)\n",
      "Collecting numpy>=1.21.6 (from onnxruntime)\n",
      "  Downloading numpy-2.2.5-cp312-cp312-manylinux_2_17_aarch64.manylinux2014_aarch64.whl.metadata (63 kB)\n",
      "Requirement already satisfied: packaging in /opt/conda/lib/python3.12/site-packages (from onnxruntime) (25.0)\n",
      "Collecting protobuf (from onnxruntime)\n",
      "  Downloading protobuf-6.30.2-cp39-abi3-manylinux2014_aarch64.whl.metadata (593 bytes)\n",
      "Collecting sympy (from onnxruntime)\n",
      "  Downloading sympy-1.14.0-py3-none-any.whl.metadata (12 kB)\n",
      "Collecting humanfriendly>=9.1 (from coloredlogs->onnxruntime)\n",
      "  Downloading humanfriendly-10.0-py2.py3-none-any.whl.metadata (9.2 kB)\n",
      "Collecting mpmath<1.4,>=1.1.0 (from sympy->onnxruntime)\n",
      "  Downloading mpmath-1.3.0-py3-none-any.whl.metadata (8.6 kB)\n",
      "Downloading onnxruntime-1.22.0-cp312-cp312-manylinux_2_27_aarch64.manylinux_2_28_aarch64.whl (14.4 MB)\n",
      "\n"
     ]
    }
   ],
   "source": [
    "stdout, code = c.execute(\"python3 -m pip install onnxruntime\")\n",
    "print(stdout)"
   ]
  },
  {
   "cell_type": "markdown",
   "metadata": {},
   "source": [
    "Finally, we will get the container logs. Run:"
   ]
  },
  {
   "cell_type": "code",
   "execution_count": 9,
   "metadata": {
    "tags": []
   },
   "outputs": [
    {
     "name": "stdout",
     "output_type": "stream",
     "text": [
      "Entered start.sh with args: start-notebook.py\n",
      "Running hooks in: /usr/local/bin/start-notebook.d as uid: 1000 gid: 100\n",
      "Done running hooks in: /usr/local/bin/start-notebook.d\n",
      "Running hooks in: /usr/local/bin/before-notebook.d as uid: 1000 gid: 100\n",
      "Sourcing shell script: /usr/local/bin/before-notebook.d/10activate-conda-env.sh\n",
      "Done running hooks in: /usr/local/bin/before-notebook.d\n",
      "Executing the command: start-notebook.py\n",
      "Executing: jupyter lab\n",
      "[I 2025-05-12 02:08:47.824 ServerApp] jupyter_lsp | extension was successfully linked.\n",
      "[I 2025-05-12 02:08:47.829 ServerApp] jupyter_server_terminals | extension was successfully linked.\n",
      "[I 2025-05-12 02:08:47.835 ServerApp] jupyterlab | extension was successfully linked.\n",
      "[I 2025-05-12 02:08:47.839 ServerApp] nbclassic | extension was successfully linked.\n",
      "[I 2025-05-12 02:08:47.844 ServerApp] notebook | extension was successfully linked.\n",
      "[I 2025-05-12 02:08:47.845 ServerApp] Writing Jupyter server cookie secret to /home/jovyan/.local/share/jupyter/runtime/jupyter_cookie_secret\n",
      "[I 2025-05-12 02:08:48.140 ServerApp] notebook_shim | extension was successfully linked.\n",
      "[W 2025-05-12 02:08:48.161 ServerApp] WARNING: The Jupyter server is listening on all IP addresses and not using encryption. This is not recommended.\n",
      "[I 2025-05-12 02:08:48.162 ServerApp] notebook_shim | extension was successfully loaded.\n",
      "[I 2025-05-12 02:08:48.164 ServerApp] jupyter_lsp | extension was successfully loaded.\n",
      "[I 2025-05-12 02:08:48.165 ServerApp] jupyter_server_terminals | extension was successfully loaded.\n",
      "[I 2025-05-12 02:08:48.168 LabApp] JupyterLab extension loaded from /opt/conda/lib/python3.12/site-packages/jupyterlab\n",
      "[I 2025-05-12 02:08:48.168 LabApp] JupyterLab application directory is /opt/conda/share/jupyter/lab\n",
      "[I 2025-05-12 02:08:48.169 LabApp] Extension Manager is 'pypi'.\n",
      "[I 2025-05-12 02:08:48.222 ServerApp] jupyterlab | extension was successfully loaded.\n",
      "[I 2025-05-12 02:08:48.226 ServerApp] nbclassic | extension was successfully loaded.\n",
      "[I 2025-05-12 02:08:48.230 ServerApp] notebook | extension was successfully loaded.\n",
      "[I 2025-05-12 02:08:48.231 ServerApp] Serving notebooks from local directory: /home/jovyan\n",
      "[I 2025-05-12 02:08:48.231 ServerApp] Jupyter Server 2.15.0 is running at:\n",
      "[I 2025-05-12 02:08:48.231 ServerApp] http://localhost:8888/lab?token=31492ca792691fb68b9b95f41b9d5651c7d834fdc902d6a6\n",
      "[I 2025-05-12 02:08:48.231 ServerApp]     http://127.0.0.1:8888/lab?token=31492ca792691fb68b9b95f41b9d5651c7d834fdc902d6a6\n",
      "[I 2025-05-12 02:08:48.231 ServerApp] Use Control-C to stop this server and shut down all kernels (twice to skip confirmation).\n",
      "[C 2025-05-12 02:08:48.235 ServerApp] \n",
      "    \n",
      "    To access the server, open this file in a browser:\n",
      "        file:///home/jovyan/.local/share/jupyter/runtime/jpserver-7-open.html\n",
      "    Or copy and paste one of these URLs:\n",
      "        http://localhost:8888/lab?token=31492ca792691fb68b9b95f41b9d5651c7d834fdc902d6a6\n",
      "        http://127.0.0.1:8888/lab?token=31492ca792691fb68b9b95f41b9d5651c7d834fdc902d6a6\n",
      "[I 2025-05-12 02:08:48.322 ServerApp] Skipped non-installed server(s): bash-language-server, dockerfile-language-server-nodejs, javascript-typescript-langserver, jedi-language-server, julia-language-server, pyright, python-language-server, python-lsp-server, r-languageserver, sql-language-server, texlab, typescript-language-server, unified-language-server, vscode-css-languageserver-bin, vscode-html-languageserver-bin, vscode-json-languageserver-bin, yaml-language-server\n",
      "\n"
     ]
    }
   ],
   "source": [
    "print(chi.container.get_logs(c.id))"
   ]
  },
  {
   "cell_type": "markdown",
   "metadata": {},
   "source": [
    "and look for a line like\n",
    "\n",
    "        http://127.0.0.1:8888/lab?token=XXXXXXXXXXXXXXXXXXXXXXXXXXXXXXXXXXXXXXXXXXXXXXXX\n",
    "\n",
    "Paste this into a browser tab, but in place of 127.0.0.1, substitute the floating IP assigned to your container, to open the Jupyter notebook interface that is running *on your Raspberry Pi 5*.\n",
    "\n",
    "Then, in the file browser on the left side, open the “work” directory and find the `measure_pi.ipynb` notebook to continue."
   ]
  }
 ],
 "metadata": {
  "kernelspec": {
   "display_name": "Python 3 (ipykernel)",
   "language": "python",
   "name": "python3"
  },
  "language_info": {
   "codemirror_mode": {
    "name": "ipython",
    "version": 3
   },
   "file_extension": ".py",
   "mimetype": "text/x-python",
   "name": "python",
   "nbconvert_exporter": "python",
   "pygments_lexer": "ipython3",
   "version": "3.10.9"
  }
 },
 "nbformat": 4,
 "nbformat_minor": 4
}
