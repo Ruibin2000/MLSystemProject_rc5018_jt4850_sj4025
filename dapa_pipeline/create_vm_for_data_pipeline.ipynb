{
 "cells": [
  {
   "cell_type": "markdown",
   "id": "d251081f-1560-4ca1-837c-aaa8b27bf3d9",
   "metadata": {},
   "source": [
    "# Launch and set up a VM instance- with python-chi"
   ]
  },
  {
   "cell_type": "code",
   "execution_count": 1,
   "id": "90ffdf80-faf0-475b-9296-7b5cc7882f92",
   "metadata": {
    "tags": []
   },
   "outputs": [
    {
     "data": {
      "application/vnd.jupyter.widget-view+json": {
       "model_id": "1a855f8e20244bb0a90061ca680b64dd",
       "version_major": 2,
       "version_minor": 0
      },
      "text/plain": [
       "VBox(children=(Dropdown(description='Select Project', options=('CHI-251409',), value='CHI-251409'), Output()))"
      ]
     },
     "metadata": {},
     "output_type": "display_data"
    },
    {
     "data": {
      "application/vnd.jupyter.widget-view+json": {
       "model_id": "4c4e201774f1437599adbd414612441c",
       "version_major": 2,
       "version_minor": 0
      },
      "text/plain": [
       "VBox(children=(Dropdown(description='Select Site', index=7, options=('CHI@TACC', 'CHI@UC', 'CHI@EVL', 'CHI@NCA…"
      ]
     },
     "metadata": {},
     "output_type": "display_data"
    }
   ],
   "source": [
    "from chi import server, context\n",
    "import chi, os, time, datetime\n",
    "\n",
    "context.version = \"1.0\" \n",
    "context.choose_project()\n",
    "context.choose_site(default=\"KVM@TACC\")"
   ]
  },
  {
   "cell_type": "code",
   "execution_count": null,
   "id": "545e63f2-3214-4ee1-8dd4-1a1ba42035f9",
   "metadata": {},
   "outputs": [],
   "source": []
  },
  {
   "cell_type": "code",
   "execution_count": 3,
   "id": "032758e2-59fa-4019-8fde-81d9d43e87da",
   "metadata": {
    "tags": []
   },
   "outputs": [
    {
     "name": "stdout",
     "output_type": "stream",
     "text": [
      "Waiting for server project-group7-node-persist's status to become ACTIVE. This typically takes 10 minutes, but can take up to 20 minutes.\n"
     ]
    },
    {
     "data": {
      "application/vnd.jupyter.widget-view+json": {
       "model_id": "7107e422ddb8475f8efec6b460bd41b1",
       "version_major": 2,
       "version_minor": 0
      },
      "text/plain": [
       "HBox(children=(Label(value=''), IntProgress(value=0, bar_style='success')))"
      ]
     },
     "metadata": {},
     "output_type": "display_data"
    },
    {
     "name": "stdout",
     "output_type": "stream",
     "text": [
      "Server has moved to status ACTIVE\n"
     ]
    },
    {
     "data": {
      "text/html": [
       "<table style='border-collapse: collapse; width: 100%;'><tr style='background-color: #f2f2f2;'><th style='border: 1px solid #ddd; padding: 8px;'>Attribute</th><th style='border: 1px solid #ddd; padding: 8px;'>project-group7-node-persist</th></tr><tr><td style='border: 1px solid #ddd; padding: 8px;'>Id</td><td style='border: 1px solid #ddd; padding: 8px;'>086adb42-04c5-4d54-beb5-d9fc2e3ad14b</td></tr><tr><td style='border: 1px solid #ddd; padding: 8px;'>Status</td><td style='border: 1px solid #ddd; padding: 8px;'>ACTIVE</td></tr><tr><td style='border: 1px solid #ddd; padding: 8px;'>Image Name</td><td style='border: 1px solid #ddd; padding: 8px;'>CC-Ubuntu24.04</td></tr><tr><td style='border: 1px solid #ddd; padding: 8px;'>Flavor Name</td><td style='border: 1px solid #ddd; padding: 8px;'>m1.large</td></tr><tr><td style='border: 1px solid #ddd; padding: 8px;'>Addresses</td><td style='border: 1px solid #ddd; padding: 8px;'><strong>sharednet1:</strong><br>&nbsp;&nbsp;IP: 10.56.2.148 (v4)<br>&nbsp;&nbsp;Type: fixed<br>&nbsp;&nbsp;MAC: fa:16:3e:45:0e:09<br></td></tr><tr><td style='border: 1px solid #ddd; padding: 8px;'>Network Name</td><td style='border: 1px solid #ddd; padding: 8px;'>sharednet1</td></tr><tr><td style='border: 1px solid #ddd; padding: 8px;'>Created At</td><td style='border: 1px solid #ddd; padding: 8px;'>2025-05-05T19:45:56Z</td></tr><tr><td style='border: 1px solid #ddd; padding: 8px;'>Keypair</td><td style='border: 1px solid #ddd; padding: 8px;'>jt4850_nyu_edu-jupyter</td></tr><tr><td style='border: 1px solid #ddd; padding: 8px;'>Reservation Id</td><td style='border: 1px solid #ddd; padding: 8px;'>None</td></tr><tr><td style='border: 1px solid #ddd; padding: 8px;'>Host Id</td><td style='border: 1px solid #ddd; padding: 8px;'>975ebaa60f3d2240a16bf0f4949a97deee0b14198391845c37f29b19</td></tr><tr><td style='border: 1px solid #ddd; padding: 8px;'>Host Status</td><td style='border: 1px solid #ddd; padding: 8px;'>None</td></tr><tr><td style='border: 1px solid #ddd; padding: 8px;'>Hypervisor Hostname</td><td style='border: 1px solid #ddd; padding: 8px;'>None</td></tr><tr><td style='border: 1px solid #ddd; padding: 8px;'>Is Locked</td><td style='border: 1px solid #ddd; padding: 8px;'>False</td></tr></table>"
      ],
      "text/plain": [
       "<IPython.core.display.HTML object>"
      ]
     },
     "metadata": {},
     "output_type": "display_data"
    },
    {
     "data": {
      "text/plain": [
       "<chi.server.Server at 0x7f4373b12c80>"
      ]
     },
     "execution_count": 3,
     "metadata": {},
     "output_type": "execute_result"
    }
   ],
   "source": [
    "username = os.getenv('USER') # all exp resources will have this prefix\n",
    "server_name = f\"project-group7-node-persist\"\n",
    "s = server.Server(\n",
    "    f\"project-group7-node-persist\", \n",
    "    image_name=\"CC-Ubuntu24.04\",\n",
    "    flavor_name=\"m1.large\"\n",
    ")\n",
    "s.submit(idempotent=True)"
   ]
  },
  {
   "cell_type": "code",
   "execution_count": 4,
   "id": "7e426e8c-8d1a-49b8-b81d-b683f01781cd",
   "metadata": {
    "tags": []
   },
   "outputs": [],
   "source": [
    "s.associate_floating_ip()"
   ]
  },
  {
   "cell_type": "code",
   "execution_count": 5,
   "id": "653a638d-d22f-4128-bb66-9bb61d06451d",
   "metadata": {
    "tags": []
   },
   "outputs": [
    {
     "name": "stdout",
     "output_type": "stream",
     "text": [
      "129.114.27.198\n"
     ]
    }
   ],
   "source": [
    "reserved_fip = s.get_floating_ip()\n",
    "print(reserved_fip)"
   ]
  },
  {
   "cell_type": "code",
   "execution_count": 6,
   "id": "449d594c-3f0c-4dce-9a0d-aeabfba2ef7c",
   "metadata": {
    "tags": []
   },
   "outputs": [],
   "source": [
    "security_groups = [\n",
    "  {'name': \"allow-ssh\", 'port': 22, 'description': \"Enable SSH traffic on TCP port 22\"},\n",
    "  {'name': \"allow-8888\", 'port': 8888, 'description': \"Enable TCP port 8888 (used by Jupyter)\"},\n",
    "  {'name': \"allow-8000\", 'port': 8000, 'description': \"Enable TCP port 8000 (used by MLFlow)\"},\n",
    "  {'name': \"allow-9000\", 'port': 9000, 'description': \"Enable TCP port 9000 (used by MinIO API)\"},\n",
    "  {'name': \"allow-9001\", 'port': 9001, 'description': \"Enable TCP port 9001 (used by MinIO Web UI)\"}\n",
    "]"
   ]
  },
  {
   "cell_type": "code",
   "execution_count": 7,
   "id": "d18d8ac7-6c75-4b16-9d24-fdefcadac4f6",
   "metadata": {
    "tags": []
   },
   "outputs": [
    {
     "name": "stdout",
     "output_type": "stream",
     "text": [
      "updated security groups: ['allow-8000', 'allow-8888', 'allow-9000', 'allow-9001', 'allow-ssh', 'default']\n"
     ]
    }
   ],
   "source": [
    "os_conn = chi.clients.connection()\n",
    "nova_server = chi.nova().servers.get(s.id)\n",
    "\n",
    "for sg in security_groups:\n",
    "\n",
    "  if not os_conn.get_security_group(sg['name']):\n",
    "      os_conn.create_security_group(sg['name'], sg['description'])\n",
    "      os_conn.create_security_group_rule(sg['name'], port_range_min=sg['port'], port_range_max=sg['port'], protocol='tcp', remote_ip_prefix='0.0.0.0/0')\n",
    "\n",
    "  nova_server.add_security_group(sg['name'])\n",
    "\n",
    "print(f\"updated security groups: {[group.name for group in nova_server.list_security_group()]}\")"
   ]
  },
  {
   "cell_type": "code",
   "execution_count": 8,
   "id": "75507fa6-f53d-4bcb-b8da-240dd097677e",
   "metadata": {
    "tags": []
   },
   "outputs": [
    {
     "name": "stdout",
     "output_type": "stream",
     "text": [
      "Checking connectivity to 129.114.27.198 port 22.\n"
     ]
    },
    {
     "data": {
      "application/vnd.jupyter.widget-view+json": {
       "model_id": "3947b7042d3240fba8bde253fc017d53",
       "version_major": 2,
       "version_minor": 0
      },
      "text/plain": [
       "HBox(children=(Label(value=''), IntProgress(value=0, bar_style='success')))"
      ]
     },
     "metadata": {},
     "output_type": "display_data"
    },
    {
     "name": "stdout",
     "output_type": "stream",
     "text": [
      "Connection successful\n"
     ]
    }
   ],
   "source": [
    "s.refresh()\n",
    "s.check_connectivity()"
   ]
  },
  {
   "cell_type": "code",
   "execution_count": 9,
   "id": "68b9988e-8c6a-43af-8436-69113f677e52",
   "metadata": {
    "tags": []
   },
   "outputs": [
    {
     "name": "stderr",
     "output_type": "stream",
     "text": [
      "/opt/conda/lib/python3.10/site-packages/paramiko/client.py:889: UserWarning: Unknown ssh-ed25519 host key for 129.114.27.198: b'b208ddebabeb5daf6a2f2cd3e1d01039'\n",
      "  warnings.warn(\n"
     ]
    },
    {
     "name": "stdout",
     "output_type": "stream",
     "text": [
      "# Executing docker install script, commit: 53a22f61c0628e58e1d6680b49e82993d304b449\n"
     ]
    },
    {
     "name": "stderr",
     "output_type": "stream",
     "text": [
      "+ sh -c apt-get -qq update >/dev/null\n",
      "+ sh -c DEBIAN_FRONTEND=noninteractive apt-get -y -qq install ca-certificates curl >/dev/null\n",
      "\n",
      "Running kernel seems to be up-to-date.\n",
      "\n",
      "Restarting services...\n",
      " systemctl restart packagekit.service\n",
      "\n",
      "No containers need to be restarted.\n",
      "\n",
      "No user sessions are running outdated binaries.\n",
      "\n",
      "No VM guests are running outdated hypervisor (qemu) binaries on this host.\n",
      "+ sh -c install -m 0755 -d /etc/apt/keyrings\n",
      "+ sh -c curl -fsSL \"https://download.docker.com/linux/ubuntu/gpg\" -o /etc/apt/keyrings/docker.asc\n",
      "+ sh -c chmod a+r /etc/apt/keyrings/docker.asc\n",
      "+ sh -c echo \"deb [arch=amd64 signed-by=/etc/apt/keyrings/docker.asc] https://download.docker.com/linux/ubuntu noble stable\" > /etc/apt/sources.list.d/docker.list\n",
      "+ sh -c apt-get -qq update >/dev/null\n",
      "+ sh -c DEBIAN_FRONTEND=noninteractive apt-get -y -qq install docker-ce docker-ce-cli containerd.io docker-compose-plugin docker-ce-rootless-extras docker-buildx-plugin >/dev/null\n",
      "\n",
      "Running kernel seems to be up-to-date.\n",
      "\n",
      "No services need to be restarted.\n",
      "\n",
      "No containers need to be restarted.\n",
      "\n",
      "No user sessions are running outdated binaries.\n",
      "\n",
      "No VM guests are running outdated hypervisor (qemu) binaries on this host.\n",
      "+ sh -c docker version\n"
     ]
    },
    {
     "name": "stdout",
     "output_type": "stream",
     "text": [
      "Client: Docker Engine - Community\n",
      " Version:           28.1.1\n",
      " API version:       1.49\n",
      " Go version:        go1.23.8\n",
      " Git commit:        4eba377\n",
      " Built:             Fri Apr 18 09:52:14 2025\n",
      " OS/Arch:           linux/amd64\n",
      " Context:           default\n",
      "\n",
      "Server: Docker Engine - Community\n",
      " Engine:\n",
      "  Version:          28.1.1\n",
      "  API version:      1.49 (minimum version 1.24)\n",
      "  Go version:       go1.23.8\n",
      "  Git commit:       01f442b\n",
      "  Built:            Fri Apr 18 09:52:14 2025\n",
      "  OS/Arch:          linux/amd64\n",
      "  Experimental:     false\n",
      " containerd:\n",
      "  Version:          1.7.27\n",
      "  GitCommit:        05044ec0a9a75232cad458027ca83437aae3f4da\n",
      " runc:\n",
      "  Version:          1.2.5\n",
      "  GitCommit:        v1.2.5-0-g59923ef\n",
      " docker-init:\n",
      "  Version:          0.19.0\n",
      "  GitCommit:        de40ad0\n",
      "\n",
      "================================================================================\n",
      "\n",
      "To run Docker as a non-privileged user, consider setting up the\n",
      "Docker daemon in rootless mode for your user:\n",
      "\n",
      "    dockerd-rootless-setuptool.sh install\n",
      "\n",
      "Visit https://docs.docker.com/go/rootless/ to learn about rootless mode.\n",
      "\n",
      "\n",
      "To run the Docker daemon as a fully privileged service, but granting non-root\n",
      "users access, refer to https://docs.docker.com/go/daemon-access/\n",
      "\n",
      "WARNING: Access to the remote API on a privileged Docker daemon is equivalent\n",
      "         to root access on the host. Refer to the 'Docker daemon attack surface'\n",
      "         documentation for details: https://docs.docker.com/go/attack-surface/\n",
      "\n",
      "================================================================================\n",
      "\n"
     ]
    },
    {
     "data": {
      "text/plain": [
       "<Result cmd='sudo groupadd -f docker; sudo usermod -aG docker $USER' exited=0>"
      ]
     },
     "execution_count": 9,
     "metadata": {},
     "output_type": "execute_result"
    }
   ],
   "source": [
    "# set up docker\n",
    "s.execute(\"curl -sSL https://get.docker.com/ | sudo sh\")\n",
    "s.execute(\"sudo groupadd -f docker; sudo usermod -aG docker $USER\")"
   ]
  },
  {
   "cell_type": "markdown",
   "id": "66bcf3de-6b44-4817-8df2-4abf50a84329",
   "metadata": {},
   "source": [
    "Now we want do clone the repo from github"
   ]
  },
  {
   "cell_type": "markdown",
   "id": "bb9b76ea-3008-48fe-8753-2277a3dcbd20",
   "metadata": {},
   "source": [
    "then, we will set up the container framwork"
   ]
  },
  {
   "cell_type": "markdown",
   "id": "ef2c58c1-21c2-4023-a72e-1069b4c3c915",
   "metadata": {},
   "source": [
    "now we can ssh into our server. where abcd is the FIP you get from above"
   ]
  },
  {
   "cell_type": "code",
   "execution_count": null,
   "id": "3a1aec54-07a4-4d8a-ba69-94e4daed4e50",
   "metadata": {},
   "outputs": [],
   "source": [
    "ssh -i ~/.ssh/id_rsa_chameleon cc@A.B.C.D\n"
   ]
  },
  {
   "cell_type": "markdown",
   "id": "ded5305b-a84c-40cf-8da1-10a51c7cec47",
   "metadata": {},
   "source": [
    "Open the GUI for CHI@TACC:\n",
    "\n",
    "from the Chameleon website\n",
    "click “Experiment” > “CHI@TACC”\n",
    "log in if prompted to do so\n",
    "check the project drop-down menu near the top left (which shows e.g. “CHI-XXXXXX”), and make sure the correct project is selected.\n",
    "In the menu sidebar on the left side, click on “Object Store” > “Containers” and then, “Create Container”. You will be prompted to set up your container step by step using a graphical “wizard”.\n",
    "\n",
    "Specify the name as whatever you like.\n",
    "Leave other settings at their defaults, and click “Submit”."
   ]
  },
  {
   "cell_type": "markdown",
   "id": "b3227fdd-4318-478d-81f7-56e676b232af",
   "metadata": {},
   "source": [
    "In the menu sidebar on the left side of the Horizon GUI, click “Identity” > “Application Credentials”. Then, click “Create Application Credential”.\n",
    "\n",
    "In the “Name”, field, use “data-persist”.\n",
    "Set the “Expiration” date when you want it expiration.\n",
    "Click “Create Application Credential”.\n",
    "Copy the “ID” and “Secret” displayed in the dialog, and save them in a safe place. You will not be able to view the secret again from the Horizon GUI. Then, click “Download openrc file” to have another copy of the secret."
   ]
  },
  {
   "cell_type": "markdown",
   "id": "f685b460-909d-4627-8742-e0316c576fa9",
   "metadata": {},
   "source": [
    "then run following code on node -persist"
   ]
  },
  {
   "cell_type": "markdown",
   "id": "c1927ac0-1b24-4e59-9af2-06f963cb97bc",
   "metadata": {},
   "source": [
    "curl https://rclone.org/install.sh | sudo bash  \n",
    "sudo sed -i '/^#user_allow_other/s/^#//' /etc/fuse.conf  \n",
    "mkdir -p ~/.config/rclone  \n",
    "nano  ~/.config/rclone/rclone.conf"
   ]
  },
  {
   "cell_type": "markdown",
   "id": "dc47b049-0158-4a6d-bf46-bbb5b772f624",
   "metadata": {},
   "source": [
    "modify the file with your own identity, cause this is a public repo, so I dont post mine here"
   ]
  },
  {
   "cell_type": "markdown",
   "id": "42faf173-e071-4da7-b5be-3e9a037d69ab",
   "metadata": {},
   "source": [
    "[chi_tacc]  \n",
    "type = swift  \n",
    "user_id = YOUR_USER_ID  \n",
    "application_credential_id = APP_CRED_ID  \n",
    "application_credential_secret = APP_CRED_SECRET  \n",
    "auth = https://chi.tacc.chameleoncloud.org:5000/v3  \n",
    "region = CHI@TACC"
   ]
  },
  {
   "cell_type": "markdown",
   "id": "d200bd3f-6d68-4787-9246-89331b3fcecd",
   "metadata": {},
   "source": [
    "# creat a pipeline this part is also the Data pipeline part"
   ]
  },
  {
   "cell_type": "markdown",
   "id": "af462c3e-baae-4539-9cbd-11983a9edabf",
   "metadata": {},
   "source": [
    "you can view the code here https://github.com/Ruibin2000/MLSystemProject_rc5018_jt4850_sj4025/blob/main/dapa_pipeline/docker-compose-etl"
   ]
  },
  {
   "cell_type": "markdown",
   "id": "825f76c9-742d-4cd7-a79f-36b510d18776",
   "metadata": {},
   "source": [
    "we need to clone our repo into our machine"
   ]
  },
  {
   "cell_type": "markdown",
   "id": "8c2fee19-2cec-4276-a5a3-0472d65a2415",
   "metadata": {},
   "source": [
    "git clone https://github.com/Ruibin2000/MLSystemProject_rc5018_jt4850_sj4025.git\n"
   ]
  },
  {
   "cell_type": "markdown",
   "id": "39c20ce5-f569-462d-916a-8839621c5e62",
   "metadata": {},
   "source": [
    "cd MLSystemProject_rc5018_jt4850_sj4025/dapa_pipeline\n"
   ]
  },
  {
   "cell_type": "markdown",
   "id": "55e0f485-9306-41c4-9888-ab09ce13e055",
   "metadata": {},
   "source": [
    "after you in this dir, we can just run  \n",
    "curl -L \"https://zenodo.org/records/14935094/files/plantsegv3.zip?download=1\" -o plantsegv3.zip"
   ]
  },
  {
   "cell_type": "markdown",
   "id": "3c4812b9-b8f2-4ba6-83a1-ed48d6a6ba3c",
   "metadata": {},
   "source": [
    "then run \n",
    "docker compose -f ~/data-persist-chi/docker/docker-compose-etl.yaml run extract-data  \n",
    "export RCLONE_CONTAINER=object-persist-netID\n",
    "docker compose -f ~/data-persist-chi/docker/docker-compose-etl.yaml run load-data"
   ]
  },
  {
   "cell_type": "markdown",
   "id": "2c3904f4-53ce-4036-a425-9a352eb48b85",
   "metadata": {},
   "source": [
    "# mount an object"
   ]
  },
  {
   "cell_type": "markdown",
   "id": "d0397a00-c82d-4859-8fb5-f0be6d3c818b",
   "metadata": {},
   "source": [
    "in terminal run  \n",
    "sudo mkdir -p /mnt/object  \n",
    "sudo chown -R cc /mnt/object  \n",
    "sudo chgrp -R cc /mnt/object  \n",
    "rclone mount chi_tacc:you-name-choosed /mnt/object --read-only --allow-other --daemon\n"
   ]
  },
  {
   "cell_type": "markdown",
   "id": "7ca5af24-967e-4686-96c7-ab5dae867e96",
   "metadata": {},
   "source": [
    "ls /mnt/object\n"
   ]
  },
  {
   "cell_type": "markdown",
   "id": "a918317f-91dd-4e12-af20-8ca0988f6b81",
   "metadata": {},
   "source": [
    "# Using block storage"
   ]
  },
  {
   "cell_type": "markdown",
   "id": "305aefce-f78a-4e8a-801a-789d661d6990",
   "metadata": {},
   "source": [
    "Then we need to creat volume in kvm@tacc  \n",
    "click on “Volumes” > “Volumes” and then, “Create Volume”. You will be prompted to set up your volume step by step using a graphical “wizard”.   \n",
    "\n",
    "Specify the name  \n",
    "Specify the size as 3gb  \n",
    "click “Create Volume”.\n"
   ]
  },
  {
   "cell_type": "markdown",
   "id": "2b8cf193-cc2e-4442-b10b-1b07bbedeca2",
   "metadata": {},
   "source": [
    "From “Volumes” > “Volumes”, next to your volume, click the ▼ in the menu on the right and choose “Manage Attachments”. In the “Attach to Instance” menu, choose your compute instance. Then, click “Attach Volume”."
   ]
  },
  {
   "cell_type": "markdown",
   "id": "04025e04-21de-4fb3-970a-9298d1743837",
   "metadata": {},
   "source": [
    "run in terminal to check if it working"
   ]
  },
  {
   "cell_type": "markdown",
   "id": "cffe3b89-0faf-47a5-b415-4f4c384c0b92",
   "metadata": {},
   "source": [
    "lsblk "
   ]
  },
  {
   "cell_type": "markdown",
   "id": "bdcca363-e2a8-4eba-b00d-7a53145b2cae",
   "metadata": {
    "tags": []
   },
   "source": [
    "then run \n",
    "sudo parted -s /dev/vdb mklabel gpt  \n",
    "sudo parted -s /dev/vdb mkpart primary ext4 0% 100%    \n",
    "sudo mkdir -p /mnt/block  \n",
    "sudo mount /dev/vdb1 /mnt/block  \n",
    "sudo chown -R cc /mnt/block  \n",
    "sudo chgrp -R cc /mnt/block  \n",
    "df -h"
   ]
  },
  {
   "cell_type": "markdown",
   "id": "9a764c9f-a930-478e-b36b-6cabfe64f373",
   "metadata": {},
   "source": [
    "the output of df-h should look like this  \n",
    "Filesystem                    Size  Used Avail Use% Mounted on  \n",
    "tmpfs                         795M  1.6M  793M   1% /run  \n",
    "/dev/vda3                      37G   16G   20G  45% /  \n",
    "tmpfs                         3.9G     0  3.9G   0% /dev/shm  \n",
    "tmpfs                         5.0M     0  5.0M   0% /run/lock  \n",
    "/dev/vda1                     549M  184K  549M   1% /boot/efi  \n",
    "tmpfs                         795M   12K  795M   1% /run/user/1000  \n",
    "/dev/vdb1                     4.9G  4.5G  138M  98% /mnt/block  \n",
    "chi_uc:object-persist-group7  1.1P  1.7G  1.0P   1% /mnt/object-uc  \n",
    "chi_tacc:mlops_group7         1.1P  1.7G  1.0P   1% /mnt/object  \n"
   ]
  },
  {
   "cell_type": "markdown",
   "id": "b05dd9af-65be-4d3e-b05c-c0e6dafed2e9",
   "metadata": {},
   "source": [
    "and the output of lsblk should be looks like this  \n",
    "NAME   MAJ:MIN RM  SIZE RO TYPE MOUNTPOINTS  \n",
    "vda    253:0    0   40G  0 disk   \n",
    "├─vda1 253:1    0  550M  0 part /boot/efi  \n",
    "├─vda2 253:2    0    8M  0 part   \n",
    "└─vda3 253:3    0 39.5G  0 part /  \n",
    "vdb    253:16   0    5G  0 disk   \n",
    "└─vdb1 253:17   0    5G  0 part /mnt/block  "
   ]
  },
  {
   "cell_type": "markdown",
   "id": "2e6d6e3f-2885-4eb9-b7c9-1ed8f2c77502",
   "metadata": {},
   "source": [
    "the output of ls /mnt/object should have your data in it, and you should be able to download your data from horizon gui also  \n",
    "cc@project-group7-node-persist:~$ ls /mnt/object  \n",
    "annotations  annotation_test.json  annotation_train.json  annotation_val.json  images  Metadatav2.csv"
   ]
  },
  {
   "cell_type": "markdown",
   "id": "1b59d34c-69ec-4470-bd74-b6f5bb814456",
   "metadata": {},
   "source": [
    "then we will make the persistent storage helpful,you can run"
   ]
  },
  {
   "cell_type": "markdown",
   "id": "d0b2d199-2115-46b3-82e4-9c5c52478607",
   "metadata": {},
   "source": [
    "HOST_IP=$(curl --silent http://169.254.169.254/latest/meta-data/public-ipv4 ) docker compose -f docker-compose-block.yaml up -d\n"
   ]
  },
  {
   "cell_type": "markdown",
   "id": "bf7a5169-2afe-47bc-9572-5e49cb6687bf",
   "metadata": {},
   "source": [
    "which will give you mlflow , Postgresql database, MinIO object and a Jupyter server"
   ]
  },
  {
   "cell_type": "markdown",
   "id": "bf8017d0-e613-43a7-aff1-0f66721fcb3a",
   "metadata": {},
   "source": [
    "you can access mlfow by http://A.B.C.D:8000\n",
    "where abcd is your floating ip"
   ]
  },
  {
   "cell_type": "markdown",
   "id": "b9236a9f-efad-448a-b5ef-4c7d749a573b",
   "metadata": {},
   "source": [
    "just put this in your training python code, then you can have access of mlflow."
   ]
  },
  {
   "cell_type": "markdown",
   "id": "b17ec93e-ccb5-4721-8e2b-35192e5ce4f2",
   "metadata": {},
   "source": [
    "Then if your friend use your mlflow service, you will see file change in /mnt/block, example output blow."
   ]
  },
  {
   "cell_type": "markdown",
   "id": "15967ad7-fca5-4e58-b6df-77654843ca95",
   "metadata": {},
   "source": [
    "cc@project-group7-node-persist:~$ ls /mnt/block/minio_data  \n",
    "\n",
    "mlflow-artifacts  \n",
    "\n",
    "cc@project-group7-node-persist:~$ ls /mnt/block/minio_data/mlflow-artifacts  \n",
    "1  2  "
   ]
  },
  {
   "cell_type": "code",
   "execution_count": null,
   "id": "b952f00e-6d61-4667-8518-e75abfe526ae",
   "metadata": {},
   "outputs": [],
   "source": []
  }
 ],
 "metadata": {
  "kernelspec": {
   "display_name": "Python 3 (ipykernel)",
   "language": "python",
   "name": "python3"
  },
  "language_info": {
   "codemirror_mode": {
    "name": "ipython",
    "version": 3
   },
   "file_extension": ".py",
   "mimetype": "text/x-python",
   "name": "python",
   "nbconvert_exporter": "python",
   "pygments_lexer": "ipython3",
   "version": "3.10.9"
  }
 },
 "nbformat": 4,
 "nbformat_minor": 5
}
